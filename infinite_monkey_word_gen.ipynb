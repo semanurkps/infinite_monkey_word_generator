{
  "nbformat": 4,
  "nbformat_minor": 0,
  "metadata": {
    "kernelspec": {
      "display_name": "Python 3",
      "language": "python",
      "name": "python3"
    },
    "language_info": {
      "codemirror_mode": {
        "name": "ipython",
        "version": 3
      },
      "file_extension": ".py",
      "mimetype": "text/x-python",
      "name": "python",
      "nbconvert_exporter": "python",
      "pygments_lexer": "ipython3",
      "version": "3.7.6"
    },
    "colab": {
      "name": "infinite_monkey_word_gen.ipynb",
      "provenance": [],
      "include_colab_link": true
    }
  },
  "cells": [
    {
      "cell_type": "markdown",
      "metadata": {
        "id": "view-in-github",
        "colab_type": "text"
      },
      "source": [
        "<a href=\"https://colab.research.google.com/github/semanurkps/infinite_monkey_word_generator/blob/master/infinite_monkey_word_gen.ipynb\" target=\"_parent\"><img src=\"https://colab.research.google.com/assets/colab-badge.svg\" alt=\"Open In Colab\"/></a>"
      ]
    },
    {
      "cell_type": "code",
      "metadata": {
        "id": "w_wBJy9XYZf3"
      },
      "source": [
        "# Import the required libraries\r\n",
        "\r\n",
        "import timeit\r\n",
        "import random"
      ],
      "execution_count": 1,
      "outputs": []
    },
    {
      "cell_type": "code",
      "metadata": {
        "id": "r-YM39BPYZXO"
      },
      "source": [
        "# Our \"monkey\" generators\r\n",
        " \r\n",
        "def generate_text(n):\r\n",
        "  \"\"\" Randomly generates one word in the given length n \"\"\"\r\n",
        "  alphabet = [\"q\",\"w\",\"e\",\"r\",\"t\",\"y\",\"u\",\"ı\",\"o\",\"p\",\"ğ\",\"ü\",\"a\",\"s\",\"d\",\"f\",  \r\n",
        "             \"g\",\"h\",\"j\",\"k\",\"l\",\"ş\",\"i\",\"z\",\"x\",\"c\",\"v\",\"b\",\"n\",\"m\",\"ö\",\"ç\"]\r\n",
        "  word = []\r\n",
        "  for i in range(n):\r\n",
        "    word.append(random.choice(alphabet))\r\n",
        "  return \"\".join(word) "
      ],
      "execution_count": 2,
      "outputs": []
    },
    {
      "cell_type": "code",
      "metadata": {
        "colab": {
          "base_uri": "https://localhost:8080/"
        },
        "id": "uzWJ9FL7YlGe",
        "outputId": "65d21c5e-a5c6-454d-b39f-fe135fa1ac2f"
      },
      "source": [
        "user_word = str(input(\"Please enter a word: \")).lower()   # Ask input from the user and cast it to lowercase\r\n",
        "word = []                                                 # Empty list to start the process\r\n",
        "while user_word != word:                                  # Loop untill we match generated text with user text \r\n",
        "  start=timeit.default_timer()                            # Record current time to measure time taken for match to be found\r\n",
        "  word=generate_text(len(user_word))                      # Generate word\r\n",
        "  if user_word == word:\r\n",
        "    stop=timeit.default_timer()                           # Record stopping time when the words match\r\n",
        "    print(\"Texts match!\")\r\n",
        "    print(\"Given word: {}\".format(user_word))\r\n",
        "    print(\"Generated word: {}\".format(word))\r\n",
        "    #print(\"Total time: {}\".format('\\n'+'Start Time: ' + '00.0' + ' sec' + '\\nStop Time: ' + str(stop) + ' sec))\r\n",
        "    print('\\nStart Time: ' + '00.0' + ' sec' + '\\nStop Time: ' + str(stop) + ' sec')"
      ],
      "execution_count": 3,
      "outputs": [
        {
          "output_type": "stream",
          "text": [
            "Please enter a word: sema\n",
            "Texts match!\n",
            "Given word: sema\n",
            "Generated word: sema\n",
            "\n",
            "Start Time: 00.0 sec\n",
            "Stop Time: 102.302535836 sec\n"
          ],
          "name": "stdout"
        }
      ]
    },
    {
      "cell_type": "code",
      "metadata": {
        "id": "vpJh3EWUYk_A"
      },
      "source": [
        ""
      ],
      "execution_count": null,
      "outputs": []
    }
  ]
}